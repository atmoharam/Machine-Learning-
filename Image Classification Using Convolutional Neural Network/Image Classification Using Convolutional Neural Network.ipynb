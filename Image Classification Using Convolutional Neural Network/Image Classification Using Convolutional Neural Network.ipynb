{
 "cells": [
  {
   "cell_type": "markdown",
   "id": "7746d070",
   "metadata": {},
   "source": [
    "## Importing the relevant libraries "
   ]
  },
  {
   "cell_type": "code",
   "execution_count": 1,
   "id": "36e38433",
   "metadata": {},
   "outputs": [],
   "source": [
    "import tensorflow as tf\n",
    "from tensorflow.keras import datasets, layers, models\n",
    "import matplotlib.pyplot as plt\n",
    "import numpy as np\n",
    "import pandas as pd\n",
    "import seaborn as sn\n",
    "import random\n",
    "random.seed(10)\n",
    "import os\n",
    "os.environ['KMP_DUPLICATE_LIB_OK']='True'\n",
    "import warnings\n",
    "warnings.filterwarnings('ignore')\n",
    "from sklearn.model_selection import train_test_split"
   ]
  },
  {
   "cell_type": "markdown",
   "id": "a204704e",
   "metadata": {},
   "source": [
    "## Load data"
   ]
  },
  {
   "cell_type": "code",
   "execution_count": 2,
   "id": "48cd603a",
   "metadata": {},
   "outputs": [
    {
     "data": {
      "text/plain": [
       "(50000, 32, 32, 3)"
      ]
     },
     "execution_count": 2,
     "metadata": {},
     "output_type": "execute_result"
    }
   ],
   "source": [
    "(X_train, y_train), (X_test,y_test) = datasets.cifar10.load_data()\n",
    "X_train.shape"
   ]
  },
  {
   "cell_type": "code",
   "execution_count": 26,
   "id": "20949983",
   "metadata": {},
   "outputs": [],
   "source": [
    "y_train = y_train.reshape(-1,)\n",
    "y_test = y_test.reshape(-1,)"
   ]
  },
  {
   "cell_type": "code",
   "execution_count": 4,
   "id": "6edf25e0",
   "metadata": {},
   "outputs": [],
   "source": [
    "classes = [\"airplane\",\"automobile\",\"bird\",\"cat\",\"deer\",\"dog\",\"frog\",\"horse\",\"ship\",\"truck\"]"
   ]
  },
  {
   "cell_type": "code",
   "execution_count": 5,
   "id": "4a9db05b",
   "metadata": {},
   "outputs": [
    {
     "data": {
      "image/png": "[encoded data removed]",
      "text/plain": [
       "<Figure size 1500x200 with 1 Axes>"
      ]
     },
     "metadata": {},
     "output_type": "display_data"
    }
   ],
   "source": [
    "def plot_sample(X, y, index):\n",
    "    plt.figure(figsize = (15,2))\n",
    "    plt.imshow(X[index])\n",
    "    plt.xlabel(classes[y[index]])\n",
    "plot_sample(X_train, y_train, 0)"
   ]
  },
  {
   "cell_type": "markdown",
   "id": "f2145e4c",
   "metadata": {},
   "source": [
    "## preprocessing"
   ]
  },
  {
   "cell_type": "code",
   "execution_count": 6,
   "id": "c274a0d0",
   "metadata": {},
   "outputs": [],
   "source": [
    "X_train = X_train / 255.0\n",
    "X_test = X_test / 255.0"
   ]
  },
  {
   "cell_type": "markdown",
   "id": "4b57a4ae",
   "metadata": {},
   "source": [
    "## Build simple artificial neural network"
   ]
  },
  {
   "cell_type": "code",
   "execution_count": 7,
   "id": "1ed10c8a",
   "metadata": {},
   "outputs": [
    {
     "name": "stdout",
     "output_type": "stream",
     "text": [
      "Epoch 1/5\n",
      "1563/1563 [==============================] - 45s 29ms/step - loss: 1.8116 - accuracy: 0.3540\n",
      "Epoch 2/5\n",
      "1563/1563 [==============================] - 47s 30ms/step - loss: 1.6240 - accuracy: 0.4258\n",
      "Epoch 3/5\n",
      "1563/1563 [==============================] - 74s 47ms/step - loss: 1.5426 - accuracy: 0.4555\n",
      "Epoch 4/5\n",
      "1563/1563 [==============================] - 80s 51ms/step - loss: 1.4841 - accuracy: 0.4777\n",
      "Epoch 5/5\n",
      "1563/1563 [==============================] - 64s 41ms/step - loss: 1.4335 - accuracy: 0.4957\n"
     ]
    },
    {
     "data": {
      "text/plain": [
       "<keras.callbacks.History at 0x1e2e09e7430>"
      ]
     },
     "execution_count": 7,
     "metadata": {},
     "output_type": "execute_result"
    }
   ],
   "source": [
    "ann = models.Sequential([\n",
    "        layers.Flatten(input_shape=(32,32,3)),\n",
    "        layers.Dense(3000, activation='relu'),\n",
    "        layers.Dense(1000, activation='relu'),\n",
    "        layers.Dense(10, activation='softmax')    \n",
    "    ])\n",
    "\n",
    "ann.compile(optimizer='SGD',\n",
    "              loss='sparse_categorical_crossentropy',\n",
    "              metrics=['accuracy'])\n",
    "\n",
    "ann.fit(X_train, y_train, epochs=5)"
   ]
  },
  {
   "cell_type": "markdown",
   "id": "e54de8fa",
   "metadata": {},
   "source": [
    "## Build with CNN"
   ]
  },
  {
   "cell_type": "code",
   "execution_count": 8,
   "id": "6d209302",
   "metadata": {},
   "outputs": [],
   "source": [
    "cnn = models.Sequential([\n",
    "    layers.Conv2D(filters=32, kernel_size=(3, 3), activation='relu', input_shape=(32, 32, 3)),\n",
    "    layers.MaxPooling2D((2, 2)),\n",
    "    \n",
    "    layers.Conv2D(filters=64, kernel_size=(3, 3), activation='relu'),\n",
    "    layers.MaxPooling2D((2, 2)),\n",
    "    \n",
    "    layers.Flatten(),\n",
    "    layers.Dense(64, activation='relu'),\n",
    "    layers.Dense(10, activation='softmax')\n",
    "])"
   ]
  },
  {
   "cell_type": "code",
   "execution_count": 9,
   "id": "8e86d2f6",
   "metadata": {},
   "outputs": [],
   "source": [
    "cnn.compile(optimizer='adam',\n",
    "              loss='sparse_categorical_crossentropy',\n",
    "              metrics=['accuracy'])"
   ]
  },
  {
   "cell_type": "code",
   "execution_count": 10,
   "id": "39df9334",
   "metadata": {},
   "outputs": [
    {
     "name": "stdout",
     "output_type": "stream",
     "text": [
      "Epoch 1/20\n",
      "1563/1563 [==============================] - 58s 36ms/step - loss: 1.4929 - accuracy: 0.4657\n",
      "Epoch 2/20\n",
      "1563/1563 [==============================] - 53s 34ms/step - loss: 1.1440 - accuracy: 0.6008\n",
      "Epoch 3/20\n",
      "1563/1563 [==============================] - 36s 23ms/step - loss: 1.0170 - accuracy: 0.6455\n",
      "Epoch 4/20\n",
      "1563/1563 [==============================] - 40s 26ms/step - loss: 0.9324 - accuracy: 0.6769\n",
      "Epoch 5/20\n",
      "1563/1563 [==============================] - 42s 27ms/step - loss: 0.8694 - accuracy: 0.6992\n",
      "Epoch 6/20\n",
      "1563/1563 [==============================] - 40s 26ms/step - loss: 0.8129 - accuracy: 0.7196\n",
      "Epoch 7/20\n",
      "1563/1563 [==============================] - 42s 27ms/step - loss: 0.7646 - accuracy: 0.7368\n",
      "Epoch 8/20\n",
      "1563/1563 [==============================] - 46s 29ms/step - loss: 0.7270 - accuracy: 0.7469\n",
      "Epoch 9/20\n",
      "1563/1563 [==============================] - 45s 29ms/step - loss: 0.6875 - accuracy: 0.7623\n",
      "Epoch 10/20\n",
      "1563/1563 [==============================] - 43s 27ms/step - loss: 0.6573 - accuracy: 0.7723\n",
      "Epoch 11/20\n",
      "1563/1563 [==============================] - 41s 26ms/step - loss: 0.6261 - accuracy: 0.7820\n",
      "Epoch 12/20\n",
      "1563/1563 [==============================] - 43s 28ms/step - loss: 0.5964 - accuracy: 0.7921\n",
      "Epoch 13/20\n",
      "1563/1563 [==============================] - 42s 27ms/step - loss: 0.5675 - accuracy: 0.8006\n",
      "Epoch 14/20\n",
      "1563/1563 [==============================] - 44s 28ms/step - loss: 0.5430 - accuracy: 0.8091\n",
      "Epoch 15/20\n",
      "1563/1563 [==============================] - 45s 29ms/step - loss: 0.5214 - accuracy: 0.8166\n",
      "Epoch 16/20\n",
      "1563/1563 [==============================] - 43s 27ms/step - loss: 0.5009 - accuracy: 0.8247\n",
      "Epoch 17/20\n",
      "1563/1563 [==============================] - 37s 24ms/step - loss: 0.4761 - accuracy: 0.8335\n",
      "Epoch 18/20\n",
      "1563/1563 [==============================] - 34s 21ms/step - loss: 0.4565 - accuracy: 0.8397\n",
      "Epoch 19/20\n",
      "1563/1563 [==============================] - 34s 22ms/step - loss: 0.4426 - accuracy: 0.8438\n",
      "Epoch 20/20\n",
      "1563/1563 [==============================] - 38s 24ms/step - loss: 0.4188 - accuracy: 0.8520\n"
     ]
    },
    {
     "data": {
      "text/plain": [
       "<keras.callbacks.History at 0x1e2e0d238e0>"
      ]
     },
     "execution_count": 10,
     "metadata": {},
     "output_type": "execute_result"
    }
   ],
   "source": [
    "cnn.fit(X_train, y_train, epochs=20)"
   ]
  },
  {
   "cell_type": "code",
   "execution_count": 11,
   "id": "9b41d107",
   "metadata": {},
   "outputs": [
    {
     "name": "stdout",
     "output_type": "stream",
     "text": [
      "313/313 [==============================] - 5s 15ms/step - loss: 1.1302 - accuracy: 0.6802\n"
     ]
    },
    {
     "data": {
      "text/plain": [
       "[1.1302107572555542, 0.6801999807357788]"
      ]
     },
     "execution_count": 11,
     "metadata": {},
     "output_type": "execute_result"
    }
   ],
   "source": [
    "cnn.evaluate(X_test,y_test)"
   ]
  },
  {
   "cell_type": "code",
   "execution_count": 13,
   "id": "809ccb2a",
   "metadata": {},
   "outputs": [
    {
     "name": "stdout",
     "output_type": "stream",
     "text": [
      "313/313 [==============================] - 4s 13ms/step\n",
      "[3, 8, 8, 0, 6]\n",
      "[[3]\n",
      " [8]\n",
      " [8]\n",
      " [0]\n",
      " [6]]\n"
     ]
    }
   ],
   "source": [
    "y_pred = cnn.predict(X_test)\n",
    "y_classes = [np.argmax(element) for element in y_pred]\n",
    "print(y_classes[:5])\n",
    "print(y_test[:5])"
   ]
  },
  {
   "cell_type": "code",
   "execution_count": 29,
   "id": "a0c25719",
   "metadata": {},
   "outputs": [
    {
     "name": "stdout",
     "output_type": "stream",
     "text": [
      "frog\n"
     ]
    },
    {
     "data": {
      "image/png": "[encoded data removed]",
      "text/plain": [
       "<Figure size 1500x200 with 1 Axes>"
      ]
     },
     "metadata": {},
     "output_type": "display_data"
    }
   ],
   "source": [
    "plot_sample(X_test, y_test,4)\n",
    "print(classes[6])"
   ]
  },
  {
   "cell_type": "code",
   "execution_count": null,
   "id": "4e168ebb",
   "metadata": {},
   "outputs": [],
   "source": []
  }
 ],
 "metadata": {
  "kernelspec": {
   "display_name": "Python 3 (ipykernel)",
   "language": "python",
   "name": "python3"
  },
  "language_info": {
   "codemirror_mode": {
    "name": "ipython",
    "version": 3
   },
   "file_extension": ".py",
   "mimetype": "text/x-python",
   "name": "python",
   "nbconvert_exporter": "python",
   "pygments_lexer": "ipython3",
   "version": "3.9.13"
  }
 },
 "nbformat": 4,
 "nbformat_minor": 5
}
